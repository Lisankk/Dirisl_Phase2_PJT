{
  "nbformat": 4,
  "nbformat_minor": 0,
  "metadata": {
    "colab": {
      "provenance": [],
      "include_colab_link": true
    },
    "kernelspec": {
      "name": "python3",
      "display_name": "Python 3"
    },
    "language_info": {
      "name": "python"
    }
  },
  "cells": [
    {
      "cell_type": "markdown",
      "metadata": {
        "id": "view-in-github",
        "colab_type": "text"
      },
      "source": [
        "<a href=\"https://colab.research.google.com/github/Lisankk/Dirisl_Phase2_PJT/blob/Ito_branch/calculate_auuc.ipynb\" target=\"_parent\"><img src=\"https://colab.research.google.com/assets/colab-badge.svg\" alt=\"Open In Colab\"/></a>"
      ]
    },
    {
      "cell_type": "code",
      "source": [
        "import pandas as pd\n",
        "import scipy as sp\n",
        "import scipy.stats\n",
        "import seaborn as sns\n",
        "import matplotlib.pyplot as plt\n",
        "import numpy as np\n",
        "from sklearn.model_selection import train_test_split\n",
        "from sklearn.ensemble import RandomForestClassifier\n",
        "from sklearn.metrics import accuracy_score\n",
        "from sklearn.metrics import precision_score\n",
        "from sklearn.metrics import recall_score\n",
        "from sklearn.metrics import f1_score\n",
        "from sklearn.metrics import roc_curve, roc_auc_score\n",
        "from sklearn.metrics import confusion_matrix, ConfusionMatrixDisplay\n",
        "from sklearn.model_selection import KFold\n",
        "from sklearn.model_selection import cross_val_score"
      ],
      "metadata": {
        "id": "ps-Jre2xbmZ5"
      },
      "execution_count": 1,
      "outputs": []
    },
    {
      "cell_type": "code",
      "source": [
        "!pip install japanize_matplotlib\n",
        "import japanize_matplotlib"
      ],
      "metadata": {
        "colab": {
          "base_uri": "https://localhost:8080/"
        },
        "id": "Uqo7Hnv6HXDI",
        "outputId": "1a7caecd-ee34-4b93-d6b8-58a218a93d12"
      },
      "execution_count": 2,
      "outputs": [
        {
          "output_type": "stream",
          "name": "stdout",
          "text": [
            "Collecting japanize_matplotlib\n",
            "  Downloading japanize-matplotlib-1.1.3.tar.gz (4.1 MB)\n",
            "\u001b[2K     \u001b[90m━━━━━━━━━━━━━━━━━━━━━━━━━━━━━━━━━━━━━━━━\u001b[0m \u001b[32m4.1/4.1 MB\u001b[0m \u001b[31m8.3 MB/s\u001b[0m eta \u001b[36m0:00:00\u001b[0m\n",
            "\u001b[?25h  Preparing metadata (setup.py) ... \u001b[?25l\u001b[?25hdone\n",
            "Requirement already satisfied: matplotlib in /usr/local/lib/python3.10/dist-packages (from japanize_matplotlib) (3.7.1)\n",
            "Requirement already satisfied: contourpy>=1.0.1 in /usr/local/lib/python3.10/dist-packages (from matplotlib->japanize_matplotlib) (1.2.1)\n",
            "Requirement already satisfied: cycler>=0.10 in /usr/local/lib/python3.10/dist-packages (from matplotlib->japanize_matplotlib) (0.12.1)\n",
            "Requirement already satisfied: fonttools>=4.22.0 in /usr/local/lib/python3.10/dist-packages (from matplotlib->japanize_matplotlib) (4.53.1)\n",
            "Requirement already satisfied: kiwisolver>=1.0.1 in /usr/local/lib/python3.10/dist-packages (from matplotlib->japanize_matplotlib) (1.4.5)\n",
            "Requirement already satisfied: numpy>=1.20 in /usr/local/lib/python3.10/dist-packages (from matplotlib->japanize_matplotlib) (1.26.4)\n",
            "Requirement already satisfied: packaging>=20.0 in /usr/local/lib/python3.10/dist-packages (from matplotlib->japanize_matplotlib) (24.1)\n",
            "Requirement already satisfied: pillow>=6.2.0 in /usr/local/lib/python3.10/dist-packages (from matplotlib->japanize_matplotlib) (9.4.0)\n",
            "Requirement already satisfied: pyparsing>=2.3.1 in /usr/local/lib/python3.10/dist-packages (from matplotlib->japanize_matplotlib) (3.1.2)\n",
            "Requirement already satisfied: python-dateutil>=2.7 in /usr/local/lib/python3.10/dist-packages (from matplotlib->japanize_matplotlib) (2.8.2)\n",
            "Requirement already satisfied: six>=1.5 in /usr/local/lib/python3.10/dist-packages (from python-dateutil>=2.7->matplotlib->japanize_matplotlib) (1.16.0)\n",
            "Building wheels for collected packages: japanize_matplotlib\n",
            "  Building wheel for japanize_matplotlib (setup.py) ... \u001b[?25l\u001b[?25hdone\n",
            "  Created wheel for japanize_matplotlib: filename=japanize_matplotlib-1.1.3-py3-none-any.whl size=4120257 sha256=4383d3f9a75a51c4c32f0e9b8bf3591b4f3715c097ed69b692b9087cdb3fc0f2\n",
            "  Stored in directory: /root/.cache/pip/wheels/61/7a/6b/df1f79be9c59862525070e157e62b08eab8ece27c1b68fbb94\n",
            "Successfully built japanize_matplotlib\n",
            "Installing collected packages: japanize_matplotlib\n",
            "Successfully installed japanize_matplotlib-1.1.3\n"
          ]
        }
      ]
    },
    {
      "cell_type": "code",
      "source": [
        "from google.colab import drive\n",
        "drive.mount('/content/drive')"
      ],
      "metadata": {
        "colab": {
          "base_uri": "https://localhost:8080/"
        },
        "id": "s0mmihBWoPq0",
        "outputId": "b0635396-c205-4d58-cc3d-882dd3eed1b0"
      },
      "execution_count": 3,
      "outputs": [
        {
          "output_type": "stream",
          "name": "stdout",
          "text": [
            "Mounted at /content/drive\n"
          ]
        }
      ]
    },
    {
      "cell_type": "code",
      "source": [
        "#csvファイルの読み込み\n",
        "df = pd.read_csv('/content/drive/MyDrive/abtest_results_for_coupon_sending.csv')\n",
        "df.head()"
      ],
      "metadata": {
        "colab": {
          "base_uri": "https://localhost:8080/",
          "height": 313
        },
        "id": "yCRqYGotbLXU",
        "outputId": "b823a85f-022a-432e-c92d-eb699902e641"
      },
      "execution_count": 4,
      "outputs": [
        {
          "output_type": "execute_result",
          "data": {
            "text/plain": [
              "  sex  recency  history  mens_product_purchase  womens_product_purchase  \\\n",
              "0  男性        6    32908                      1                        1   \n",
              "1  男性        9    67583                      1                        0   \n",
              "2  女性        9    67507                      1                        1   \n",
              "3  男性        2    10164                      0                        1   \n",
              "4  女性        4    24142                      0                        1   \n",
              "\n",
              "  area_classification  newbie  channel segment  visit  conversion  spend  \n",
              "0                  地方       1      ウェブ    送付なし      0           0      0  \n",
              "1                  地方       1      ウェブ    送付あり      0           0      0  \n",
              "2                  地方       1  スマートフォン    送付あり      0           0      0  \n",
              "3                  都会       0      ウェブ    送付あり      1           0      0  \n",
              "4                  地方       1       複数    送付なし      0           0      0  "
            ],
            "text/html": [
              "\n",
              "  <div id=\"df-40867148-fca3-4eb7-b713-34d9ebe40cd2\" class=\"colab-df-container\">\n",
              "    <div>\n",
              "<style scoped>\n",
              "    .dataframe tbody tr th:only-of-type {\n",
              "        vertical-align: middle;\n",
              "    }\n",
              "\n",
              "    .dataframe tbody tr th {\n",
              "        vertical-align: top;\n",
              "    }\n",
              "\n",
              "    .dataframe thead th {\n",
              "        text-align: right;\n",
              "    }\n",
              "</style>\n",
              "<table border=\"1\" class=\"dataframe\">\n",
              "  <thead>\n",
              "    <tr style=\"text-align: right;\">\n",
              "      <th></th>\n",
              "      <th>sex</th>\n",
              "      <th>recency</th>\n",
              "      <th>history</th>\n",
              "      <th>mens_product_purchase</th>\n",
              "      <th>womens_product_purchase</th>\n",
              "      <th>area_classification</th>\n",
              "      <th>newbie</th>\n",
              "      <th>channel</th>\n",
              "      <th>segment</th>\n",
              "      <th>visit</th>\n",
              "      <th>conversion</th>\n",
              "      <th>spend</th>\n",
              "    </tr>\n",
              "  </thead>\n",
              "  <tbody>\n",
              "    <tr>\n",
              "      <th>0</th>\n",
              "      <td>男性</td>\n",
              "      <td>6</td>\n",
              "      <td>32908</td>\n",
              "      <td>1</td>\n",
              "      <td>1</td>\n",
              "      <td>地方</td>\n",
              "      <td>1</td>\n",
              "      <td>ウェブ</td>\n",
              "      <td>送付なし</td>\n",
              "      <td>0</td>\n",
              "      <td>0</td>\n",
              "      <td>0</td>\n",
              "    </tr>\n",
              "    <tr>\n",
              "      <th>1</th>\n",
              "      <td>男性</td>\n",
              "      <td>9</td>\n",
              "      <td>67583</td>\n",
              "      <td>1</td>\n",
              "      <td>0</td>\n",
              "      <td>地方</td>\n",
              "      <td>1</td>\n",
              "      <td>ウェブ</td>\n",
              "      <td>送付あり</td>\n",
              "      <td>0</td>\n",
              "      <td>0</td>\n",
              "      <td>0</td>\n",
              "    </tr>\n",
              "    <tr>\n",
              "      <th>2</th>\n",
              "      <td>女性</td>\n",
              "      <td>9</td>\n",
              "      <td>67507</td>\n",
              "      <td>1</td>\n",
              "      <td>1</td>\n",
              "      <td>地方</td>\n",
              "      <td>1</td>\n",
              "      <td>スマートフォン</td>\n",
              "      <td>送付あり</td>\n",
              "      <td>0</td>\n",
              "      <td>0</td>\n",
              "      <td>0</td>\n",
              "    </tr>\n",
              "    <tr>\n",
              "      <th>3</th>\n",
              "      <td>男性</td>\n",
              "      <td>2</td>\n",
              "      <td>10164</td>\n",
              "      <td>0</td>\n",
              "      <td>1</td>\n",
              "      <td>都会</td>\n",
              "      <td>0</td>\n",
              "      <td>ウェブ</td>\n",
              "      <td>送付あり</td>\n",
              "      <td>1</td>\n",
              "      <td>0</td>\n",
              "      <td>0</td>\n",
              "    </tr>\n",
              "    <tr>\n",
              "      <th>4</th>\n",
              "      <td>女性</td>\n",
              "      <td>4</td>\n",
              "      <td>24142</td>\n",
              "      <td>0</td>\n",
              "      <td>1</td>\n",
              "      <td>地方</td>\n",
              "      <td>1</td>\n",
              "      <td>複数</td>\n",
              "      <td>送付なし</td>\n",
              "      <td>0</td>\n",
              "      <td>0</td>\n",
              "      <td>0</td>\n",
              "    </tr>\n",
              "  </tbody>\n",
              "</table>\n",
              "</div>\n",
              "    <div class=\"colab-df-buttons\">\n",
              "\n",
              "  <div class=\"colab-df-container\">\n",
              "    <button class=\"colab-df-convert\" onclick=\"convertToInteractive('df-40867148-fca3-4eb7-b713-34d9ebe40cd2')\"\n",
              "            title=\"Convert this dataframe to an interactive table.\"\n",
              "            style=\"display:none;\">\n",
              "\n",
              "  <svg xmlns=\"http://www.w3.org/2000/svg\" height=\"24px\" viewBox=\"0 -960 960 960\">\n",
              "    <path d=\"M120-120v-720h720v720H120Zm60-500h600v-160H180v160Zm220 220h160v-160H400v160Zm0 220h160v-160H400v160ZM180-400h160v-160H180v160Zm440 0h160v-160H620v160ZM180-180h160v-160H180v160Zm440 0h160v-160H620v160Z\"/>\n",
              "  </svg>\n",
              "    </button>\n",
              "\n",
              "  <style>\n",
              "    .colab-df-container {\n",
              "      display:flex;\n",
              "      gap: 12px;\n",
              "    }\n",
              "\n",
              "    .colab-df-convert {\n",
              "      background-color: #E8F0FE;\n",
              "      border: none;\n",
              "      border-radius: 50%;\n",
              "      cursor: pointer;\n",
              "      display: none;\n",
              "      fill: #1967D2;\n",
              "      height: 32px;\n",
              "      padding: 0 0 0 0;\n",
              "      width: 32px;\n",
              "    }\n",
              "\n",
              "    .colab-df-convert:hover {\n",
              "      background-color: #E2EBFA;\n",
              "      box-shadow: 0px 1px 2px rgba(60, 64, 67, 0.3), 0px 1px 3px 1px rgba(60, 64, 67, 0.15);\n",
              "      fill: #174EA6;\n",
              "    }\n",
              "\n",
              "    .colab-df-buttons div {\n",
              "      margin-bottom: 4px;\n",
              "    }\n",
              "\n",
              "    [theme=dark] .colab-df-convert {\n",
              "      background-color: #3B4455;\n",
              "      fill: #D2E3FC;\n",
              "    }\n",
              "\n",
              "    [theme=dark] .colab-df-convert:hover {\n",
              "      background-color: #434B5C;\n",
              "      box-shadow: 0px 1px 3px 1px rgba(0, 0, 0, 0.15);\n",
              "      filter: drop-shadow(0px 1px 2px rgba(0, 0, 0, 0.3));\n",
              "      fill: #FFFFFF;\n",
              "    }\n",
              "  </style>\n",
              "\n",
              "    <script>\n",
              "      const buttonEl =\n",
              "        document.querySelector('#df-40867148-fca3-4eb7-b713-34d9ebe40cd2 button.colab-df-convert');\n",
              "      buttonEl.style.display =\n",
              "        google.colab.kernel.accessAllowed ? 'block' : 'none';\n",
              "\n",
              "      async function convertToInteractive(key) {\n",
              "        const element = document.querySelector('#df-40867148-fca3-4eb7-b713-34d9ebe40cd2');\n",
              "        const dataTable =\n",
              "          await google.colab.kernel.invokeFunction('convertToInteractive',\n",
              "                                                    [key], {});\n",
              "        if (!dataTable) return;\n",
              "\n",
              "        const docLinkHtml = 'Like what you see? Visit the ' +\n",
              "          '<a target=\"_blank\" href=https://colab.research.google.com/notebooks/data_table.ipynb>data table notebook</a>'\n",
              "          + ' to learn more about interactive tables.';\n",
              "        element.innerHTML = '';\n",
              "        dataTable['output_type'] = 'display_data';\n",
              "        await google.colab.output.renderOutput(dataTable, element);\n",
              "        const docLink = document.createElement('div');\n",
              "        docLink.innerHTML = docLinkHtml;\n",
              "        element.appendChild(docLink);\n",
              "      }\n",
              "    </script>\n",
              "  </div>\n",
              "\n",
              "\n",
              "<div id=\"df-f78c1de2-f045-44a1-b55c-97a12e630914\">\n",
              "  <button class=\"colab-df-quickchart\" onclick=\"quickchart('df-f78c1de2-f045-44a1-b55c-97a12e630914')\"\n",
              "            title=\"Suggest charts\"\n",
              "            style=\"display:none;\">\n",
              "\n",
              "<svg xmlns=\"http://www.w3.org/2000/svg\" height=\"24px\"viewBox=\"0 0 24 24\"\n",
              "     width=\"24px\">\n",
              "    <g>\n",
              "        <path d=\"M19 3H5c-1.1 0-2 .9-2 2v14c0 1.1.9 2 2 2h14c1.1 0 2-.9 2-2V5c0-1.1-.9-2-2-2zM9 17H7v-7h2v7zm4 0h-2V7h2v10zm4 0h-2v-4h2v4z\"/>\n",
              "    </g>\n",
              "</svg>\n",
              "  </button>\n",
              "\n",
              "<style>\n",
              "  .colab-df-quickchart {\n",
              "      --bg-color: #E8F0FE;\n",
              "      --fill-color: #1967D2;\n",
              "      --hover-bg-color: #E2EBFA;\n",
              "      --hover-fill-color: #174EA6;\n",
              "      --disabled-fill-color: #AAA;\n",
              "      --disabled-bg-color: #DDD;\n",
              "  }\n",
              "\n",
              "  [theme=dark] .colab-df-quickchart {\n",
              "      --bg-color: #3B4455;\n",
              "      --fill-color: #D2E3FC;\n",
              "      --hover-bg-color: #434B5C;\n",
              "      --hover-fill-color: #FFFFFF;\n",
              "      --disabled-bg-color: #3B4455;\n",
              "      --disabled-fill-color: #666;\n",
              "  }\n",
              "\n",
              "  .colab-df-quickchart {\n",
              "    background-color: var(--bg-color);\n",
              "    border: none;\n",
              "    border-radius: 50%;\n",
              "    cursor: pointer;\n",
              "    display: none;\n",
              "    fill: var(--fill-color);\n",
              "    height: 32px;\n",
              "    padding: 0;\n",
              "    width: 32px;\n",
              "  }\n",
              "\n",
              "  .colab-df-quickchart:hover {\n",
              "    background-color: var(--hover-bg-color);\n",
              "    box-shadow: 0 1px 2px rgba(60, 64, 67, 0.3), 0 1px 3px 1px rgba(60, 64, 67, 0.15);\n",
              "    fill: var(--button-hover-fill-color);\n",
              "  }\n",
              "\n",
              "  .colab-df-quickchart-complete:disabled,\n",
              "  .colab-df-quickchart-complete:disabled:hover {\n",
              "    background-color: var(--disabled-bg-color);\n",
              "    fill: var(--disabled-fill-color);\n",
              "    box-shadow: none;\n",
              "  }\n",
              "\n",
              "  .colab-df-spinner {\n",
              "    border: 2px solid var(--fill-color);\n",
              "    border-color: transparent;\n",
              "    border-bottom-color: var(--fill-color);\n",
              "    animation:\n",
              "      spin 1s steps(1) infinite;\n",
              "  }\n",
              "\n",
              "  @keyframes spin {\n",
              "    0% {\n",
              "      border-color: transparent;\n",
              "      border-bottom-color: var(--fill-color);\n",
              "      border-left-color: var(--fill-color);\n",
              "    }\n",
              "    20% {\n",
              "      border-color: transparent;\n",
              "      border-left-color: var(--fill-color);\n",
              "      border-top-color: var(--fill-color);\n",
              "    }\n",
              "    30% {\n",
              "      border-color: transparent;\n",
              "      border-left-color: var(--fill-color);\n",
              "      border-top-color: var(--fill-color);\n",
              "      border-right-color: var(--fill-color);\n",
              "    }\n",
              "    40% {\n",
              "      border-color: transparent;\n",
              "      border-right-color: var(--fill-color);\n",
              "      border-top-color: var(--fill-color);\n",
              "    }\n",
              "    60% {\n",
              "      border-color: transparent;\n",
              "      border-right-color: var(--fill-color);\n",
              "    }\n",
              "    80% {\n",
              "      border-color: transparent;\n",
              "      border-right-color: var(--fill-color);\n",
              "      border-bottom-color: var(--fill-color);\n",
              "    }\n",
              "    90% {\n",
              "      border-color: transparent;\n",
              "      border-bottom-color: var(--fill-color);\n",
              "    }\n",
              "  }\n",
              "</style>\n",
              "\n",
              "  <script>\n",
              "    async function quickchart(key) {\n",
              "      const quickchartButtonEl =\n",
              "        document.querySelector('#' + key + ' button');\n",
              "      quickchartButtonEl.disabled = true;  // To prevent multiple clicks.\n",
              "      quickchartButtonEl.classList.add('colab-df-spinner');\n",
              "      try {\n",
              "        const charts = await google.colab.kernel.invokeFunction(\n",
              "            'suggestCharts', [key], {});\n",
              "      } catch (error) {\n",
              "        console.error('Error during call to suggestCharts:', error);\n",
              "      }\n",
              "      quickchartButtonEl.classList.remove('colab-df-spinner');\n",
              "      quickchartButtonEl.classList.add('colab-df-quickchart-complete');\n",
              "    }\n",
              "    (() => {\n",
              "      let quickchartButtonEl =\n",
              "        document.querySelector('#df-f78c1de2-f045-44a1-b55c-97a12e630914 button');\n",
              "      quickchartButtonEl.style.display =\n",
              "        google.colab.kernel.accessAllowed ? 'block' : 'none';\n",
              "    })();\n",
              "  </script>\n",
              "</div>\n",
              "\n",
              "    </div>\n",
              "  </div>\n"
            ],
            "application/vnd.google.colaboratory.intrinsic+json": {
              "type": "dataframe",
              "variable_name": "df",
              "summary": "{\n  \"name\": \"df\",\n  \"rows\": 42613,\n  \"fields\": [\n    {\n      \"column\": \"sex\",\n      \"properties\": {\n        \"dtype\": \"category\",\n        \"num_unique_values\": 2,\n        \"samples\": [\n          \"\\u5973\\u6027\",\n          \"\\u7537\\u6027\"\n        ],\n        \"semantic_type\": \"\",\n        \"description\": \"\"\n      }\n    },\n    {\n      \"column\": \"recency\",\n      \"properties\": {\n        \"dtype\": \"number\",\n        \"std\": 3,\n        \"min\": 1,\n        \"max\": 12,\n        \"num_unique_values\": 12,\n        \"samples\": [\n          10,\n          1\n        ],\n        \"semantic_type\": \"\",\n        \"description\": \"\"\n      }\n    },\n    {\n      \"column\": \"history\",\n      \"properties\": {\n        \"dtype\": \"number\",\n        \"std\": 25657,\n        \"min\": 2999,\n        \"max\": 334593,\n        \"num_unique_values\": 25914,\n        \"samples\": [\n          52794,\n          55012\n        ],\n        \"semantic_type\": \"\",\n        \"description\": \"\"\n      }\n    },\n    {\n      \"column\": \"mens_product_purchase\",\n      \"properties\": {\n        \"dtype\": \"number\",\n        \"std\": 0,\n        \"min\": 0,\n        \"max\": 1,\n        \"num_unique_values\": 2,\n        \"samples\": [\n          0,\n          1\n        ],\n        \"semantic_type\": \"\",\n        \"description\": \"\"\n      }\n    },\n    {\n      \"column\": \"womens_product_purchase\",\n      \"properties\": {\n        \"dtype\": \"number\",\n        \"std\": 0,\n        \"min\": 0,\n        \"max\": 1,\n        \"num_unique_values\": 2,\n        \"samples\": [\n          0,\n          1\n        ],\n        \"semantic_type\": \"\",\n        \"description\": \"\"\n      }\n    },\n    {\n      \"column\": \"area_classification\",\n      \"properties\": {\n        \"dtype\": \"category\",\n        \"num_unique_values\": 3,\n        \"samples\": [\n          \"\\u5730\\u65b9\",\n          \"\\u90fd\\u4f1a\"\n        ],\n        \"semantic_type\": \"\",\n        \"description\": \"\"\n      }\n    },\n    {\n      \"column\": \"newbie\",\n      \"properties\": {\n        \"dtype\": \"number\",\n        \"std\": 0,\n        \"min\": 0,\n        \"max\": 1,\n        \"num_unique_values\": 2,\n        \"samples\": [\n          0,\n          1\n        ],\n        \"semantic_type\": \"\",\n        \"description\": \"\"\n      }\n    },\n    {\n      \"column\": \"channel\",\n      \"properties\": {\n        \"dtype\": \"category\",\n        \"num_unique_values\": 3,\n        \"samples\": [\n          \"\\u30a6\\u30a7\\u30d6\",\n          \"\\u30b9\\u30de\\u30fc\\u30c8\\u30d5\\u30a9\\u30f3\"\n        ],\n        \"semantic_type\": \"\",\n        \"description\": \"\"\n      }\n    },\n    {\n      \"column\": \"segment\",\n      \"properties\": {\n        \"dtype\": \"category\",\n        \"num_unique_values\": 2,\n        \"samples\": [\n          \"\\u9001\\u4ed8\\u3042\\u308a\",\n          \"\\u9001\\u4ed8\\u306a\\u3057\"\n        ],\n        \"semantic_type\": \"\",\n        \"description\": \"\"\n      }\n    },\n    {\n      \"column\": \"visit\",\n      \"properties\": {\n        \"dtype\": \"number\",\n        \"std\": 0,\n        \"min\": 0,\n        \"max\": 1,\n        \"num_unique_values\": 2,\n        \"samples\": [\n          1,\n          0\n        ],\n        \"semantic_type\": \"\",\n        \"description\": \"\"\n      }\n    },\n    {\n      \"column\": \"conversion\",\n      \"properties\": {\n        \"dtype\": \"number\",\n        \"std\": 0,\n        \"min\": 0,\n        \"max\": 1,\n        \"num_unique_values\": 2,\n        \"samples\": [\n          1,\n          0\n        ],\n        \"semantic_type\": \"\",\n        \"description\": \"\"\n      }\n    },\n    {\n      \"column\": \"spend\",\n      \"properties\": {\n        \"dtype\": \"number\",\n        \"std\": 1499,\n        \"min\": 0,\n        \"max\": 49900,\n        \"num_unique_values\": 287,\n        \"samples\": [\n          10284,\n          6733\n        ],\n        \"semantic_type\": \"\",\n        \"description\": \"\"\n      }\n    }\n  ]\n}"
            }
          },
          "metadata": {},
          "execution_count": 4
        }
      ]
    },
    {
      "cell_type": "code",
      "source": [
        "df[\"sex\"] = df[\"sex\"].map({\"男性\": 0, \"女性\": 1})\n",
        "df[\"segment\"] = df[\"segment\"].map({\"送付あり\": 0, \"送付なし\": 1})"
      ],
      "metadata": {
        "id": "OWbh2wxSd_kg"
      },
      "execution_count": 5,
      "outputs": []
    },
    {
      "cell_type": "code",
      "source": [
        "df_onehot = pd.get_dummies(df[[\"area_classification\", \"channel\"]], dtype=int)\n",
        "df = pd.concat([df, df_onehot], axis=1)\n",
        "df = df.drop([\"area_classification\", \"channel\"], axis=1)\n",
        "df.head()"
      ],
      "metadata": {
        "colab": {
          "base_uri": "https://localhost:8080/",
          "height": 261
        },
        "id": "tdl4EG8XGEKW",
        "outputId": "f9e9d4d0-4b81-4731-871d-1e5c85754b71"
      },
      "execution_count": 6,
      "outputs": [
        {
          "output_type": "execute_result",
          "data": {
            "text/plain": [
              "   sex  recency  history  mens_product_purchase  womens_product_purchase  \\\n",
              "0    0        6    32908                      1                        1   \n",
              "1    0        9    67583                      1                        0   \n",
              "2    1        9    67507                      1                        1   \n",
              "3    0        2    10164                      0                        1   \n",
              "4    1        4    24142                      0                        1   \n",
              "\n",
              "   newbie  segment  visit  conversion  spend  area_classification_地方  \\\n",
              "0       1        1      0           0      0                       1   \n",
              "1       1        0      0           0      0                       1   \n",
              "2       1        0      0           0      0                       1   \n",
              "3       0        0      1           0      0                       0   \n",
              "4       1        1      0           0      0                       1   \n",
              "\n",
              "   area_classification_郊外  area_classification_都会  channel_ウェブ  \\\n",
              "0                       0                       0            1   \n",
              "1                       0                       0            1   \n",
              "2                       0                       0            0   \n",
              "3                       0                       1            1   \n",
              "4                       0                       0            0   \n",
              "\n",
              "   channel_スマートフォン  channel_複数  \n",
              "0                0           0  \n",
              "1                0           0  \n",
              "2                1           0  \n",
              "3                0           0  \n",
              "4                0           1  "
            ],
            "text/html": [
              "\n",
              "  <div id=\"df-359d35c2-1552-4d72-8564-2e345d9fb658\" class=\"colab-df-container\">\n",
              "    <div>\n",
              "<style scoped>\n",
              "    .dataframe tbody tr th:only-of-type {\n",
              "        vertical-align: middle;\n",
              "    }\n",
              "\n",
              "    .dataframe tbody tr th {\n",
              "        vertical-align: top;\n",
              "    }\n",
              "\n",
              "    .dataframe thead th {\n",
              "        text-align: right;\n",
              "    }\n",
              "</style>\n",
              "<table border=\"1\" class=\"dataframe\">\n",
              "  <thead>\n",
              "    <tr style=\"text-align: right;\">\n",
              "      <th></th>\n",
              "      <th>sex</th>\n",
              "      <th>recency</th>\n",
              "      <th>history</th>\n",
              "      <th>mens_product_purchase</th>\n",
              "      <th>womens_product_purchase</th>\n",
              "      <th>newbie</th>\n",
              "      <th>segment</th>\n",
              "      <th>visit</th>\n",
              "      <th>conversion</th>\n",
              "      <th>spend</th>\n",
              "      <th>area_classification_地方</th>\n",
              "      <th>area_classification_郊外</th>\n",
              "      <th>area_classification_都会</th>\n",
              "      <th>channel_ウェブ</th>\n",
              "      <th>channel_スマートフォン</th>\n",
              "      <th>channel_複数</th>\n",
              "    </tr>\n",
              "  </thead>\n",
              "  <tbody>\n",
              "    <tr>\n",
              "      <th>0</th>\n",
              "      <td>0</td>\n",
              "      <td>6</td>\n",
              "      <td>32908</td>\n",
              "      <td>1</td>\n",
              "      <td>1</td>\n",
              "      <td>1</td>\n",
              "      <td>1</td>\n",
              "      <td>0</td>\n",
              "      <td>0</td>\n",
              "      <td>0</td>\n",
              "      <td>1</td>\n",
              "      <td>0</td>\n",
              "      <td>0</td>\n",
              "      <td>1</td>\n",
              "      <td>0</td>\n",
              "      <td>0</td>\n",
              "    </tr>\n",
              "    <tr>\n",
              "      <th>1</th>\n",
              "      <td>0</td>\n",
              "      <td>9</td>\n",
              "      <td>67583</td>\n",
              "      <td>1</td>\n",
              "      <td>0</td>\n",
              "      <td>1</td>\n",
              "      <td>0</td>\n",
              "      <td>0</td>\n",
              "      <td>0</td>\n",
              "      <td>0</td>\n",
              "      <td>1</td>\n",
              "      <td>0</td>\n",
              "      <td>0</td>\n",
              "      <td>1</td>\n",
              "      <td>0</td>\n",
              "      <td>0</td>\n",
              "    </tr>\n",
              "    <tr>\n",
              "      <th>2</th>\n",
              "      <td>1</td>\n",
              "      <td>9</td>\n",
              "      <td>67507</td>\n",
              "      <td>1</td>\n",
              "      <td>1</td>\n",
              "      <td>1</td>\n",
              "      <td>0</td>\n",
              "      <td>0</td>\n",
              "      <td>0</td>\n",
              "      <td>0</td>\n",
              "      <td>1</td>\n",
              "      <td>0</td>\n",
              "      <td>0</td>\n",
              "      <td>0</td>\n",
              "      <td>1</td>\n",
              "      <td>0</td>\n",
              "    </tr>\n",
              "    <tr>\n",
              "      <th>3</th>\n",
              "      <td>0</td>\n",
              "      <td>2</td>\n",
              "      <td>10164</td>\n",
              "      <td>0</td>\n",
              "      <td>1</td>\n",
              "      <td>0</td>\n",
              "      <td>0</td>\n",
              "      <td>1</td>\n",
              "      <td>0</td>\n",
              "      <td>0</td>\n",
              "      <td>0</td>\n",
              "      <td>0</td>\n",
              "      <td>1</td>\n",
              "      <td>1</td>\n",
              "      <td>0</td>\n",
              "      <td>0</td>\n",
              "    </tr>\n",
              "    <tr>\n",
              "      <th>4</th>\n",
              "      <td>1</td>\n",
              "      <td>4</td>\n",
              "      <td>24142</td>\n",
              "      <td>0</td>\n",
              "      <td>1</td>\n",
              "      <td>1</td>\n",
              "      <td>1</td>\n",
              "      <td>0</td>\n",
              "      <td>0</td>\n",
              "      <td>0</td>\n",
              "      <td>1</td>\n",
              "      <td>0</td>\n",
              "      <td>0</td>\n",
              "      <td>0</td>\n",
              "      <td>0</td>\n",
              "      <td>1</td>\n",
              "    </tr>\n",
              "  </tbody>\n",
              "</table>\n",
              "</div>\n",
              "    <div class=\"colab-df-buttons\">\n",
              "\n",
              "  <div class=\"colab-df-container\">\n",
              "    <button class=\"colab-df-convert\" onclick=\"convertToInteractive('df-359d35c2-1552-4d72-8564-2e345d9fb658')\"\n",
              "            title=\"Convert this dataframe to an interactive table.\"\n",
              "            style=\"display:none;\">\n",
              "\n",
              "  <svg xmlns=\"http://www.w3.org/2000/svg\" height=\"24px\" viewBox=\"0 -960 960 960\">\n",
              "    <path d=\"M120-120v-720h720v720H120Zm60-500h600v-160H180v160Zm220 220h160v-160H400v160Zm0 220h160v-160H400v160ZM180-400h160v-160H180v160Zm440 0h160v-160H620v160ZM180-180h160v-160H180v160Zm440 0h160v-160H620v160Z\"/>\n",
              "  </svg>\n",
              "    </button>\n",
              "\n",
              "  <style>\n",
              "    .colab-df-container {\n",
              "      display:flex;\n",
              "      gap: 12px;\n",
              "    }\n",
              "\n",
              "    .colab-df-convert {\n",
              "      background-color: #E8F0FE;\n",
              "      border: none;\n",
              "      border-radius: 50%;\n",
              "      cursor: pointer;\n",
              "      display: none;\n",
              "      fill: #1967D2;\n",
              "      height: 32px;\n",
              "      padding: 0 0 0 0;\n",
              "      width: 32px;\n",
              "    }\n",
              "\n",
              "    .colab-df-convert:hover {\n",
              "      background-color: #E2EBFA;\n",
              "      box-shadow: 0px 1px 2px rgba(60, 64, 67, 0.3), 0px 1px 3px 1px rgba(60, 64, 67, 0.15);\n",
              "      fill: #174EA6;\n",
              "    }\n",
              "\n",
              "    .colab-df-buttons div {\n",
              "      margin-bottom: 4px;\n",
              "    }\n",
              "\n",
              "    [theme=dark] .colab-df-convert {\n",
              "      background-color: #3B4455;\n",
              "      fill: #D2E3FC;\n",
              "    }\n",
              "\n",
              "    [theme=dark] .colab-df-convert:hover {\n",
              "      background-color: #434B5C;\n",
              "      box-shadow: 0px 1px 3px 1px rgba(0, 0, 0, 0.15);\n",
              "      filter: drop-shadow(0px 1px 2px rgba(0, 0, 0, 0.3));\n",
              "      fill: #FFFFFF;\n",
              "    }\n",
              "  </style>\n",
              "\n",
              "    <script>\n",
              "      const buttonEl =\n",
              "        document.querySelector('#df-359d35c2-1552-4d72-8564-2e345d9fb658 button.colab-df-convert');\n",
              "      buttonEl.style.display =\n",
              "        google.colab.kernel.accessAllowed ? 'block' : 'none';\n",
              "\n",
              "      async function convertToInteractive(key) {\n",
              "        const element = document.querySelector('#df-359d35c2-1552-4d72-8564-2e345d9fb658');\n",
              "        const dataTable =\n",
              "          await google.colab.kernel.invokeFunction('convertToInteractive',\n",
              "                                                    [key], {});\n",
              "        if (!dataTable) return;\n",
              "\n",
              "        const docLinkHtml = 'Like what you see? Visit the ' +\n",
              "          '<a target=\"_blank\" href=https://colab.research.google.com/notebooks/data_table.ipynb>data table notebook</a>'\n",
              "          + ' to learn more about interactive tables.';\n",
              "        element.innerHTML = '';\n",
              "        dataTable['output_type'] = 'display_data';\n",
              "        await google.colab.output.renderOutput(dataTable, element);\n",
              "        const docLink = document.createElement('div');\n",
              "        docLink.innerHTML = docLinkHtml;\n",
              "        element.appendChild(docLink);\n",
              "      }\n",
              "    </script>\n",
              "  </div>\n",
              "\n",
              "\n",
              "<div id=\"df-497d1013-1a30-498c-8ebd-f1530212a4e1\">\n",
              "  <button class=\"colab-df-quickchart\" onclick=\"quickchart('df-497d1013-1a30-498c-8ebd-f1530212a4e1')\"\n",
              "            title=\"Suggest charts\"\n",
              "            style=\"display:none;\">\n",
              "\n",
              "<svg xmlns=\"http://www.w3.org/2000/svg\" height=\"24px\"viewBox=\"0 0 24 24\"\n",
              "     width=\"24px\">\n",
              "    <g>\n",
              "        <path d=\"M19 3H5c-1.1 0-2 .9-2 2v14c0 1.1.9 2 2 2h14c1.1 0 2-.9 2-2V5c0-1.1-.9-2-2-2zM9 17H7v-7h2v7zm4 0h-2V7h2v10zm4 0h-2v-4h2v4z\"/>\n",
              "    </g>\n",
              "</svg>\n",
              "  </button>\n",
              "\n",
              "<style>\n",
              "  .colab-df-quickchart {\n",
              "      --bg-color: #E8F0FE;\n",
              "      --fill-color: #1967D2;\n",
              "      --hover-bg-color: #E2EBFA;\n",
              "      --hover-fill-color: #174EA6;\n",
              "      --disabled-fill-color: #AAA;\n",
              "      --disabled-bg-color: #DDD;\n",
              "  }\n",
              "\n",
              "  [theme=dark] .colab-df-quickchart {\n",
              "      --bg-color: #3B4455;\n",
              "      --fill-color: #D2E3FC;\n",
              "      --hover-bg-color: #434B5C;\n",
              "      --hover-fill-color: #FFFFFF;\n",
              "      --disabled-bg-color: #3B4455;\n",
              "      --disabled-fill-color: #666;\n",
              "  }\n",
              "\n",
              "  .colab-df-quickchart {\n",
              "    background-color: var(--bg-color);\n",
              "    border: none;\n",
              "    border-radius: 50%;\n",
              "    cursor: pointer;\n",
              "    display: none;\n",
              "    fill: var(--fill-color);\n",
              "    height: 32px;\n",
              "    padding: 0;\n",
              "    width: 32px;\n",
              "  }\n",
              "\n",
              "  .colab-df-quickchart:hover {\n",
              "    background-color: var(--hover-bg-color);\n",
              "    box-shadow: 0 1px 2px rgba(60, 64, 67, 0.3), 0 1px 3px 1px rgba(60, 64, 67, 0.15);\n",
              "    fill: var(--button-hover-fill-color);\n",
              "  }\n",
              "\n",
              "  .colab-df-quickchart-complete:disabled,\n",
              "  .colab-df-quickchart-complete:disabled:hover {\n",
              "    background-color: var(--disabled-bg-color);\n",
              "    fill: var(--disabled-fill-color);\n",
              "    box-shadow: none;\n",
              "  }\n",
              "\n",
              "  .colab-df-spinner {\n",
              "    border: 2px solid var(--fill-color);\n",
              "    border-color: transparent;\n",
              "    border-bottom-color: var(--fill-color);\n",
              "    animation:\n",
              "      spin 1s steps(1) infinite;\n",
              "  }\n",
              "\n",
              "  @keyframes spin {\n",
              "    0% {\n",
              "      border-color: transparent;\n",
              "      border-bottom-color: var(--fill-color);\n",
              "      border-left-color: var(--fill-color);\n",
              "    }\n",
              "    20% {\n",
              "      border-color: transparent;\n",
              "      border-left-color: var(--fill-color);\n",
              "      border-top-color: var(--fill-color);\n",
              "    }\n",
              "    30% {\n",
              "      border-color: transparent;\n",
              "      border-left-color: var(--fill-color);\n",
              "      border-top-color: var(--fill-color);\n",
              "      border-right-color: var(--fill-color);\n",
              "    }\n",
              "    40% {\n",
              "      border-color: transparent;\n",
              "      border-right-color: var(--fill-color);\n",
              "      border-top-color: var(--fill-color);\n",
              "    }\n",
              "    60% {\n",
              "      border-color: transparent;\n",
              "      border-right-color: var(--fill-color);\n",
              "    }\n",
              "    80% {\n",
              "      border-color: transparent;\n",
              "      border-right-color: var(--fill-color);\n",
              "      border-bottom-color: var(--fill-color);\n",
              "    }\n",
              "    90% {\n",
              "      border-color: transparent;\n",
              "      border-bottom-color: var(--fill-color);\n",
              "    }\n",
              "  }\n",
              "</style>\n",
              "\n",
              "  <script>\n",
              "    async function quickchart(key) {\n",
              "      const quickchartButtonEl =\n",
              "        document.querySelector('#' + key + ' button');\n",
              "      quickchartButtonEl.disabled = true;  // To prevent multiple clicks.\n",
              "      quickchartButtonEl.classList.add('colab-df-spinner');\n",
              "      try {\n",
              "        const charts = await google.colab.kernel.invokeFunction(\n",
              "            'suggestCharts', [key], {});\n",
              "      } catch (error) {\n",
              "        console.error('Error during call to suggestCharts:', error);\n",
              "      }\n",
              "      quickchartButtonEl.classList.remove('colab-df-spinner');\n",
              "      quickchartButtonEl.classList.add('colab-df-quickchart-complete');\n",
              "    }\n",
              "    (() => {\n",
              "      let quickchartButtonEl =\n",
              "        document.querySelector('#df-497d1013-1a30-498c-8ebd-f1530212a4e1 button');\n",
              "      quickchartButtonEl.style.display =\n",
              "        google.colab.kernel.accessAllowed ? 'block' : 'none';\n",
              "    })();\n",
              "  </script>\n",
              "</div>\n",
              "\n",
              "    </div>\n",
              "  </div>\n"
            ],
            "application/vnd.google.colaboratory.intrinsic+json": {
              "type": "dataframe",
              "variable_name": "df",
              "summary": "{\n  \"name\": \"df\",\n  \"rows\": 42613,\n  \"fields\": [\n    {\n      \"column\": \"sex\",\n      \"properties\": {\n        \"dtype\": \"number\",\n        \"std\": 0,\n        \"min\": 0,\n        \"max\": 1,\n        \"num_unique_values\": 2,\n        \"samples\": [\n          1,\n          0\n        ],\n        \"semantic_type\": \"\",\n        \"description\": \"\"\n      }\n    },\n    {\n      \"column\": \"recency\",\n      \"properties\": {\n        \"dtype\": \"number\",\n        \"std\": 3,\n        \"min\": 1,\n        \"max\": 12,\n        \"num_unique_values\": 12,\n        \"samples\": [\n          10,\n          1\n        ],\n        \"semantic_type\": \"\",\n        \"description\": \"\"\n      }\n    },\n    {\n      \"column\": \"history\",\n      \"properties\": {\n        \"dtype\": \"number\",\n        \"std\": 25657,\n        \"min\": 2999,\n        \"max\": 334593,\n        \"num_unique_values\": 25914,\n        \"samples\": [\n          52794,\n          55012\n        ],\n        \"semantic_type\": \"\",\n        \"description\": \"\"\n      }\n    },\n    {\n      \"column\": \"mens_product_purchase\",\n      \"properties\": {\n        \"dtype\": \"number\",\n        \"std\": 0,\n        \"min\": 0,\n        \"max\": 1,\n        \"num_unique_values\": 2,\n        \"samples\": [\n          0,\n          1\n        ],\n        \"semantic_type\": \"\",\n        \"description\": \"\"\n      }\n    },\n    {\n      \"column\": \"womens_product_purchase\",\n      \"properties\": {\n        \"dtype\": \"number\",\n        \"std\": 0,\n        \"min\": 0,\n        \"max\": 1,\n        \"num_unique_values\": 2,\n        \"samples\": [\n          0,\n          1\n        ],\n        \"semantic_type\": \"\",\n        \"description\": \"\"\n      }\n    },\n    {\n      \"column\": \"newbie\",\n      \"properties\": {\n        \"dtype\": \"number\",\n        \"std\": 0,\n        \"min\": 0,\n        \"max\": 1,\n        \"num_unique_values\": 2,\n        \"samples\": [\n          0,\n          1\n        ],\n        \"semantic_type\": \"\",\n        \"description\": \"\"\n      }\n    },\n    {\n      \"column\": \"segment\",\n      \"properties\": {\n        \"dtype\": \"number\",\n        \"std\": 0,\n        \"min\": 0,\n        \"max\": 1,\n        \"num_unique_values\": 2,\n        \"samples\": [\n          0,\n          1\n        ],\n        \"semantic_type\": \"\",\n        \"description\": \"\"\n      }\n    },\n    {\n      \"column\": \"visit\",\n      \"properties\": {\n        \"dtype\": \"number\",\n        \"std\": 0,\n        \"min\": 0,\n        \"max\": 1,\n        \"num_unique_values\": 2,\n        \"samples\": [\n          1,\n          0\n        ],\n        \"semantic_type\": \"\",\n        \"description\": \"\"\n      }\n    },\n    {\n      \"column\": \"conversion\",\n      \"properties\": {\n        \"dtype\": \"number\",\n        \"std\": 0,\n        \"min\": 0,\n        \"max\": 1,\n        \"num_unique_values\": 2,\n        \"samples\": [\n          1,\n          0\n        ],\n        \"semantic_type\": \"\",\n        \"description\": \"\"\n      }\n    },\n    {\n      \"column\": \"spend\",\n      \"properties\": {\n        \"dtype\": \"number\",\n        \"std\": 1499,\n        \"min\": 0,\n        \"max\": 49900,\n        \"num_unique_values\": 287,\n        \"samples\": [\n          10284,\n          6733\n        ],\n        \"semantic_type\": \"\",\n        \"description\": \"\"\n      }\n    },\n    {\n      \"column\": \"area_classification_\\u5730\\u65b9\",\n      \"properties\": {\n        \"dtype\": \"number\",\n        \"std\": 0,\n        \"min\": 0,\n        \"max\": 1,\n        \"num_unique_values\": 2,\n        \"samples\": [\n          0,\n          1\n        ],\n        \"semantic_type\": \"\",\n        \"description\": \"\"\n      }\n    },\n    {\n      \"column\": \"area_classification_\\u90ca\\u5916\",\n      \"properties\": {\n        \"dtype\": \"number\",\n        \"std\": 0,\n        \"min\": 0,\n        \"max\": 1,\n        \"num_unique_values\": 2,\n        \"samples\": [\n          1,\n          0\n        ],\n        \"semantic_type\": \"\",\n        \"description\": \"\"\n      }\n    },\n    {\n      \"column\": \"area_classification_\\u90fd\\u4f1a\",\n      \"properties\": {\n        \"dtype\": \"number\",\n        \"std\": 0,\n        \"min\": 0,\n        \"max\": 1,\n        \"num_unique_values\": 2,\n        \"samples\": [\n          1,\n          0\n        ],\n        \"semantic_type\": \"\",\n        \"description\": \"\"\n      }\n    },\n    {\n      \"column\": \"channel_\\u30a6\\u30a7\\u30d6\",\n      \"properties\": {\n        \"dtype\": \"number\",\n        \"std\": 0,\n        \"min\": 0,\n        \"max\": 1,\n        \"num_unique_values\": 2,\n        \"samples\": [\n          0,\n          1\n        ],\n        \"semantic_type\": \"\",\n        \"description\": \"\"\n      }\n    },\n    {\n      \"column\": \"channel_\\u30b9\\u30de\\u30fc\\u30c8\\u30d5\\u30a9\\u30f3\",\n      \"properties\": {\n        \"dtype\": \"number\",\n        \"std\": 0,\n        \"min\": 0,\n        \"max\": 1,\n        \"num_unique_values\": 2,\n        \"samples\": [\n          1,\n          0\n        ],\n        \"semantic_type\": \"\",\n        \"description\": \"\"\n      }\n    },\n    {\n      \"column\": \"channel_\\u8907\\u6570\",\n      \"properties\": {\n        \"dtype\": \"number\",\n        \"std\": 0,\n        \"min\": 0,\n        \"max\": 1,\n        \"num_unique_values\": 2,\n        \"samples\": [\n          1,\n          0\n        ],\n        \"semantic_type\": \"\",\n        \"description\": \"\"\n      }\n    }\n  ]\n}"
            }
          },
          "metadata": {},
          "execution_count": 6
        }
      ]
    },
    {
      "cell_type": "code",
      "source": [
        "df_RF = df[[\"recency\", \"history\", \"newbie\", \"segment\", \"visit\"]]\n",
        "df_RF"
      ],
      "metadata": {
        "colab": {
          "base_uri": "https://localhost:8080/",
          "height": 423
        },
        "id": "y5TwTJpddodQ",
        "outputId": "77e5ea92-211e-4366-d416-1d90ec601b3a"
      },
      "execution_count": 7,
      "outputs": [
        {
          "output_type": "execute_result",
          "data": {
            "text/plain": [
              "       recency  history  newbie  segment  visit\n",
              "0            6    32908       1        1      0\n",
              "1            9    67583       1        0      0\n",
              "2            9    67507       1        0      0\n",
              "3            2    10164       0        0      1\n",
              "4            4    24142       1        1      0\n",
              "...        ...      ...     ...      ...    ...\n",
              "42608        7     8646       0        0      1\n",
              "42609       10    10554       0        0      1\n",
              "42610        5     3890       1        0      0\n",
              "42611        6     2999       1        0      1\n",
              "42612        1    47282       0        0      1\n",
              "\n",
              "[42613 rows x 5 columns]"
            ],
            "text/html": [
              "\n",
              "  <div id=\"df-c9b46913-833e-409e-8fae-c89c29b30efa\" class=\"colab-df-container\">\n",
              "    <div>\n",
              "<style scoped>\n",
              "    .dataframe tbody tr th:only-of-type {\n",
              "        vertical-align: middle;\n",
              "    }\n",
              "\n",
              "    .dataframe tbody tr th {\n",
              "        vertical-align: top;\n",
              "    }\n",
              "\n",
              "    .dataframe thead th {\n",
              "        text-align: right;\n",
              "    }\n",
              "</style>\n",
              "<table border=\"1\" class=\"dataframe\">\n",
              "  <thead>\n",
              "    <tr style=\"text-align: right;\">\n",
              "      <th></th>\n",
              "      <th>recency</th>\n",
              "      <th>history</th>\n",
              "      <th>newbie</th>\n",
              "      <th>segment</th>\n",
              "      <th>visit</th>\n",
              "    </tr>\n",
              "  </thead>\n",
              "  <tbody>\n",
              "    <tr>\n",
              "      <th>0</th>\n",
              "      <td>6</td>\n",
              "      <td>32908</td>\n",
              "      <td>1</td>\n",
              "      <td>1</td>\n",
              "      <td>0</td>\n",
              "    </tr>\n",
              "    <tr>\n",
              "      <th>1</th>\n",
              "      <td>9</td>\n",
              "      <td>67583</td>\n",
              "      <td>1</td>\n",
              "      <td>0</td>\n",
              "      <td>0</td>\n",
              "    </tr>\n",
              "    <tr>\n",
              "      <th>2</th>\n",
              "      <td>9</td>\n",
              "      <td>67507</td>\n",
              "      <td>1</td>\n",
              "      <td>0</td>\n",
              "      <td>0</td>\n",
              "    </tr>\n",
              "    <tr>\n",
              "      <th>3</th>\n",
              "      <td>2</td>\n",
              "      <td>10164</td>\n",
              "      <td>0</td>\n",
              "      <td>0</td>\n",
              "      <td>1</td>\n",
              "    </tr>\n",
              "    <tr>\n",
              "      <th>4</th>\n",
              "      <td>4</td>\n",
              "      <td>24142</td>\n",
              "      <td>1</td>\n",
              "      <td>1</td>\n",
              "      <td>0</td>\n",
              "    </tr>\n",
              "    <tr>\n",
              "      <th>...</th>\n",
              "      <td>...</td>\n",
              "      <td>...</td>\n",
              "      <td>...</td>\n",
              "      <td>...</td>\n",
              "      <td>...</td>\n",
              "    </tr>\n",
              "    <tr>\n",
              "      <th>42608</th>\n",
              "      <td>7</td>\n",
              "      <td>8646</td>\n",
              "      <td>0</td>\n",
              "      <td>0</td>\n",
              "      <td>1</td>\n",
              "    </tr>\n",
              "    <tr>\n",
              "      <th>42609</th>\n",
              "      <td>10</td>\n",
              "      <td>10554</td>\n",
              "      <td>0</td>\n",
              "      <td>0</td>\n",
              "      <td>1</td>\n",
              "    </tr>\n",
              "    <tr>\n",
              "      <th>42610</th>\n",
              "      <td>5</td>\n",
              "      <td>3890</td>\n",
              "      <td>1</td>\n",
              "      <td>0</td>\n",
              "      <td>0</td>\n",
              "    </tr>\n",
              "    <tr>\n",
              "      <th>42611</th>\n",
              "      <td>6</td>\n",
              "      <td>2999</td>\n",
              "      <td>1</td>\n",
              "      <td>0</td>\n",
              "      <td>1</td>\n",
              "    </tr>\n",
              "    <tr>\n",
              "      <th>42612</th>\n",
              "      <td>1</td>\n",
              "      <td>47282</td>\n",
              "      <td>0</td>\n",
              "      <td>0</td>\n",
              "      <td>1</td>\n",
              "    </tr>\n",
              "  </tbody>\n",
              "</table>\n",
              "<p>42613 rows × 5 columns</p>\n",
              "</div>\n",
              "    <div class=\"colab-df-buttons\">\n",
              "\n",
              "  <div class=\"colab-df-container\">\n",
              "    <button class=\"colab-df-convert\" onclick=\"convertToInteractive('df-c9b46913-833e-409e-8fae-c89c29b30efa')\"\n",
              "            title=\"Convert this dataframe to an interactive table.\"\n",
              "            style=\"display:none;\">\n",
              "\n",
              "  <svg xmlns=\"http://www.w3.org/2000/svg\" height=\"24px\" viewBox=\"0 -960 960 960\">\n",
              "    <path d=\"M120-120v-720h720v720H120Zm60-500h600v-160H180v160Zm220 220h160v-160H400v160Zm0 220h160v-160H400v160ZM180-400h160v-160H180v160Zm440 0h160v-160H620v160ZM180-180h160v-160H180v160Zm440 0h160v-160H620v160Z\"/>\n",
              "  </svg>\n",
              "    </button>\n",
              "\n",
              "  <style>\n",
              "    .colab-df-container {\n",
              "      display:flex;\n",
              "      gap: 12px;\n",
              "    }\n",
              "\n",
              "    .colab-df-convert {\n",
              "      background-color: #E8F0FE;\n",
              "      border: none;\n",
              "      border-radius: 50%;\n",
              "      cursor: pointer;\n",
              "      display: none;\n",
              "      fill: #1967D2;\n",
              "      height: 32px;\n",
              "      padding: 0 0 0 0;\n",
              "      width: 32px;\n",
              "    }\n",
              "\n",
              "    .colab-df-convert:hover {\n",
              "      background-color: #E2EBFA;\n",
              "      box-shadow: 0px 1px 2px rgba(60, 64, 67, 0.3), 0px 1px 3px 1px rgba(60, 64, 67, 0.15);\n",
              "      fill: #174EA6;\n",
              "    }\n",
              "\n",
              "    .colab-df-buttons div {\n",
              "      margin-bottom: 4px;\n",
              "    }\n",
              "\n",
              "    [theme=dark] .colab-df-convert {\n",
              "      background-color: #3B4455;\n",
              "      fill: #D2E3FC;\n",
              "    }\n",
              "\n",
              "    [theme=dark] .colab-df-convert:hover {\n",
              "      background-color: #434B5C;\n",
              "      box-shadow: 0px 1px 3px 1px rgba(0, 0, 0, 0.15);\n",
              "      filter: drop-shadow(0px 1px 2px rgba(0, 0, 0, 0.3));\n",
              "      fill: #FFFFFF;\n",
              "    }\n",
              "  </style>\n",
              "\n",
              "    <script>\n",
              "      const buttonEl =\n",
              "        document.querySelector('#df-c9b46913-833e-409e-8fae-c89c29b30efa button.colab-df-convert');\n",
              "      buttonEl.style.display =\n",
              "        google.colab.kernel.accessAllowed ? 'block' : 'none';\n",
              "\n",
              "      async function convertToInteractive(key) {\n",
              "        const element = document.querySelector('#df-c9b46913-833e-409e-8fae-c89c29b30efa');\n",
              "        const dataTable =\n",
              "          await google.colab.kernel.invokeFunction('convertToInteractive',\n",
              "                                                    [key], {});\n",
              "        if (!dataTable) return;\n",
              "\n",
              "        const docLinkHtml = 'Like what you see? Visit the ' +\n",
              "          '<a target=\"_blank\" href=https://colab.research.google.com/notebooks/data_table.ipynb>data table notebook</a>'\n",
              "          + ' to learn more about interactive tables.';\n",
              "        element.innerHTML = '';\n",
              "        dataTable['output_type'] = 'display_data';\n",
              "        await google.colab.output.renderOutput(dataTable, element);\n",
              "        const docLink = document.createElement('div');\n",
              "        docLink.innerHTML = docLinkHtml;\n",
              "        element.appendChild(docLink);\n",
              "      }\n",
              "    </script>\n",
              "  </div>\n",
              "\n",
              "\n",
              "<div id=\"df-1ca5b833-0241-4877-b119-e17342b3adbe\">\n",
              "  <button class=\"colab-df-quickchart\" onclick=\"quickchart('df-1ca5b833-0241-4877-b119-e17342b3adbe')\"\n",
              "            title=\"Suggest charts\"\n",
              "            style=\"display:none;\">\n",
              "\n",
              "<svg xmlns=\"http://www.w3.org/2000/svg\" height=\"24px\"viewBox=\"0 0 24 24\"\n",
              "     width=\"24px\">\n",
              "    <g>\n",
              "        <path d=\"M19 3H5c-1.1 0-2 .9-2 2v14c0 1.1.9 2 2 2h14c1.1 0 2-.9 2-2V5c0-1.1-.9-2-2-2zM9 17H7v-7h2v7zm4 0h-2V7h2v10zm4 0h-2v-4h2v4z\"/>\n",
              "    </g>\n",
              "</svg>\n",
              "  </button>\n",
              "\n",
              "<style>\n",
              "  .colab-df-quickchart {\n",
              "      --bg-color: #E8F0FE;\n",
              "      --fill-color: #1967D2;\n",
              "      --hover-bg-color: #E2EBFA;\n",
              "      --hover-fill-color: #174EA6;\n",
              "      --disabled-fill-color: #AAA;\n",
              "      --disabled-bg-color: #DDD;\n",
              "  }\n",
              "\n",
              "  [theme=dark] .colab-df-quickchart {\n",
              "      --bg-color: #3B4455;\n",
              "      --fill-color: #D2E3FC;\n",
              "      --hover-bg-color: #434B5C;\n",
              "      --hover-fill-color: #FFFFFF;\n",
              "      --disabled-bg-color: #3B4455;\n",
              "      --disabled-fill-color: #666;\n",
              "  }\n",
              "\n",
              "  .colab-df-quickchart {\n",
              "    background-color: var(--bg-color);\n",
              "    border: none;\n",
              "    border-radius: 50%;\n",
              "    cursor: pointer;\n",
              "    display: none;\n",
              "    fill: var(--fill-color);\n",
              "    height: 32px;\n",
              "    padding: 0;\n",
              "    width: 32px;\n",
              "  }\n",
              "\n",
              "  .colab-df-quickchart:hover {\n",
              "    background-color: var(--hover-bg-color);\n",
              "    box-shadow: 0 1px 2px rgba(60, 64, 67, 0.3), 0 1px 3px 1px rgba(60, 64, 67, 0.15);\n",
              "    fill: var(--button-hover-fill-color);\n",
              "  }\n",
              "\n",
              "  .colab-df-quickchart-complete:disabled,\n",
              "  .colab-df-quickchart-complete:disabled:hover {\n",
              "    background-color: var(--disabled-bg-color);\n",
              "    fill: var(--disabled-fill-color);\n",
              "    box-shadow: none;\n",
              "  }\n",
              "\n",
              "  .colab-df-spinner {\n",
              "    border: 2px solid var(--fill-color);\n",
              "    border-color: transparent;\n",
              "    border-bottom-color: var(--fill-color);\n",
              "    animation:\n",
              "      spin 1s steps(1) infinite;\n",
              "  }\n",
              "\n",
              "  @keyframes spin {\n",
              "    0% {\n",
              "      border-color: transparent;\n",
              "      border-bottom-color: var(--fill-color);\n",
              "      border-left-color: var(--fill-color);\n",
              "    }\n",
              "    20% {\n",
              "      border-color: transparent;\n",
              "      border-left-color: var(--fill-color);\n",
              "      border-top-color: var(--fill-color);\n",
              "    }\n",
              "    30% {\n",
              "      border-color: transparent;\n",
              "      border-left-color: var(--fill-color);\n",
              "      border-top-color: var(--fill-color);\n",
              "      border-right-color: var(--fill-color);\n",
              "    }\n",
              "    40% {\n",
              "      border-color: transparent;\n",
              "      border-right-color: var(--fill-color);\n",
              "      border-top-color: var(--fill-color);\n",
              "    }\n",
              "    60% {\n",
              "      border-color: transparent;\n",
              "      border-right-color: var(--fill-color);\n",
              "    }\n",
              "    80% {\n",
              "      border-color: transparent;\n",
              "      border-right-color: var(--fill-color);\n",
              "      border-bottom-color: var(--fill-color);\n",
              "    }\n",
              "    90% {\n",
              "      border-color: transparent;\n",
              "      border-bottom-color: var(--fill-color);\n",
              "    }\n",
              "  }\n",
              "</style>\n",
              "\n",
              "  <script>\n",
              "    async function quickchart(key) {\n",
              "      const quickchartButtonEl =\n",
              "        document.querySelector('#' + key + ' button');\n",
              "      quickchartButtonEl.disabled = true;  // To prevent multiple clicks.\n",
              "      quickchartButtonEl.classList.add('colab-df-spinner');\n",
              "      try {\n",
              "        const charts = await google.colab.kernel.invokeFunction(\n",
              "            'suggestCharts', [key], {});\n",
              "      } catch (error) {\n",
              "        console.error('Error during call to suggestCharts:', error);\n",
              "      }\n",
              "      quickchartButtonEl.classList.remove('colab-df-spinner');\n",
              "      quickchartButtonEl.classList.add('colab-df-quickchart-complete');\n",
              "    }\n",
              "    (() => {\n",
              "      let quickchartButtonEl =\n",
              "        document.querySelector('#df-1ca5b833-0241-4877-b119-e17342b3adbe button');\n",
              "      quickchartButtonEl.style.display =\n",
              "        google.colab.kernel.accessAllowed ? 'block' : 'none';\n",
              "    })();\n",
              "  </script>\n",
              "</div>\n",
              "\n",
              "  <div id=\"id_ccccca4c-290b-4f99-b083-3594616a8d42\">\n",
              "    <style>\n",
              "      .colab-df-generate {\n",
              "        background-color: #E8F0FE;\n",
              "        border: none;\n",
              "        border-radius: 50%;\n",
              "        cursor: pointer;\n",
              "        display: none;\n",
              "        fill: #1967D2;\n",
              "        height: 32px;\n",
              "        padding: 0 0 0 0;\n",
              "        width: 32px;\n",
              "      }\n",
              "\n",
              "      .colab-df-generate:hover {\n",
              "        background-color: #E2EBFA;\n",
              "        box-shadow: 0px 1px 2px rgba(60, 64, 67, 0.3), 0px 1px 3px 1px rgba(60, 64, 67, 0.15);\n",
              "        fill: #174EA6;\n",
              "      }\n",
              "\n",
              "      [theme=dark] .colab-df-generate {\n",
              "        background-color: #3B4455;\n",
              "        fill: #D2E3FC;\n",
              "      }\n",
              "\n",
              "      [theme=dark] .colab-df-generate:hover {\n",
              "        background-color: #434B5C;\n",
              "        box-shadow: 0px 1px 3px 1px rgba(0, 0, 0, 0.15);\n",
              "        filter: drop-shadow(0px 1px 2px rgba(0, 0, 0, 0.3));\n",
              "        fill: #FFFFFF;\n",
              "      }\n",
              "    </style>\n",
              "    <button class=\"colab-df-generate\" onclick=\"generateWithVariable('df_RF')\"\n",
              "            title=\"Generate code using this dataframe.\"\n",
              "            style=\"display:none;\">\n",
              "\n",
              "  <svg xmlns=\"http://www.w3.org/2000/svg\" height=\"24px\"viewBox=\"0 0 24 24\"\n",
              "       width=\"24px\">\n",
              "    <path d=\"M7,19H8.4L18.45,9,17,7.55,7,17.6ZM5,21V16.75L18.45,3.32a2,2,0,0,1,2.83,0l1.4,1.43a1.91,1.91,0,0,1,.58,1.4,1.91,1.91,0,0,1-.58,1.4L9.25,21ZM18.45,9,17,7.55Zm-12,3A5.31,5.31,0,0,0,4.9,8.1,5.31,5.31,0,0,0,1,6.5,5.31,5.31,0,0,0,4.9,4.9,5.31,5.31,0,0,0,6.5,1,5.31,5.31,0,0,0,8.1,4.9,5.31,5.31,0,0,0,12,6.5,5.46,5.46,0,0,0,6.5,12Z\"/>\n",
              "  </svg>\n",
              "    </button>\n",
              "    <script>\n",
              "      (() => {\n",
              "      const buttonEl =\n",
              "        document.querySelector('#id_ccccca4c-290b-4f99-b083-3594616a8d42 button.colab-df-generate');\n",
              "      buttonEl.style.display =\n",
              "        google.colab.kernel.accessAllowed ? 'block' : 'none';\n",
              "\n",
              "      buttonEl.onclick = () => {\n",
              "        google.colab.notebook.generateWithVariable('df_RF');\n",
              "      }\n",
              "      })();\n",
              "    </script>\n",
              "  </div>\n",
              "\n",
              "    </div>\n",
              "  </div>\n"
            ],
            "application/vnd.google.colaboratory.intrinsic+json": {
              "type": "dataframe",
              "variable_name": "df_RF",
              "summary": "{\n  \"name\": \"df_RF\",\n  \"rows\": 42613,\n  \"fields\": [\n    {\n      \"column\": \"recency\",\n      \"properties\": {\n        \"dtype\": \"number\",\n        \"std\": 3,\n        \"min\": 1,\n        \"max\": 12,\n        \"num_unique_values\": 12,\n        \"samples\": [\n          10,\n          1,\n          6\n        ],\n        \"semantic_type\": \"\",\n        \"description\": \"\"\n      }\n    },\n    {\n      \"column\": \"history\",\n      \"properties\": {\n        \"dtype\": \"number\",\n        \"std\": 25657,\n        \"min\": 2999,\n        \"max\": 334593,\n        \"num_unique_values\": 25914,\n        \"samples\": [\n          52794,\n          55012,\n          78162\n        ],\n        \"semantic_type\": \"\",\n        \"description\": \"\"\n      }\n    },\n    {\n      \"column\": \"newbie\",\n      \"properties\": {\n        \"dtype\": \"number\",\n        \"std\": 0,\n        \"min\": 0,\n        \"max\": 1,\n        \"num_unique_values\": 2,\n        \"samples\": [\n          0,\n          1\n        ],\n        \"semantic_type\": \"\",\n        \"description\": \"\"\n      }\n    },\n    {\n      \"column\": \"segment\",\n      \"properties\": {\n        \"dtype\": \"number\",\n        \"std\": 0,\n        \"min\": 0,\n        \"max\": 1,\n        \"num_unique_values\": 2,\n        \"samples\": [\n          0,\n          1\n        ],\n        \"semantic_type\": \"\",\n        \"description\": \"\"\n      }\n    },\n    {\n      \"column\": \"visit\",\n      \"properties\": {\n        \"dtype\": \"number\",\n        \"std\": 0,\n        \"min\": 0,\n        \"max\": 1,\n        \"num_unique_values\": 2,\n        \"samples\": [\n          1,\n          0\n        ],\n        \"semantic_type\": \"\",\n        \"description\": \"\"\n      }\n    }\n  ]\n}"
            }
          },
          "metadata": {},
          "execution_count": 7
        }
      ]
    },
    {
      "cell_type": "markdown",
      "source": [
        "**ランダムフォレストの実装に当たってクーポンありとなしのグループに分ける**"
      ],
      "metadata": {
        "id": "Ywz_3z5BpEYI"
      }
    },
    {
      "cell_type": "code",
      "source": [
        "df_RF_YesKoupon = df_RF[df_RF[\"segment\"] == 0]\n",
        "df_RF_NoKoupon = df_RF[df_RF[\"segment\"] == 1]"
      ],
      "metadata": {
        "id": "UXid8FDnpDyX"
      },
      "execution_count": 8,
      "outputs": []
    },
    {
      "cell_type": "code",
      "source": [
        "df_RF_YesKoupon = df_RF_YesKoupon.drop(\"segment\", axis = 1)\n",
        "df_RF_NoKoupon = df_RF_NoKoupon.drop(\"segment\", axis = 1)"
      ],
      "metadata": {
        "id": "snMCDVstljbg"
      },
      "execution_count": 9,
      "outputs": []
    },
    {
      "cell_type": "markdown",
      "source": [
        "\n",
        "\n",
        "---\n",
        "以下より、クーポンありモデルについて、交差検証ありのRandom Forestの実装を進めていく。\n"
      ],
      "metadata": {
        "id": "c_7DQWUPoYnc"
      }
    },
    {
      "cell_type": "markdown",
      "source": [
        "**交差検証の実装(クーポンあり)**"
      ],
      "metadata": {
        "id": "TZo7pDM7oo26"
      }
    },
    {
      "cell_type": "markdown",
      "source": [
        "**クーポンありのoofデータのAUC**"
      ],
      "metadata": {
        "id": "T0I4GMCo9vpo"
      }
    },
    {
      "cell_type": "code",
      "source": [
        "# 学習モデルを作成\n",
        "model = RandomForestClassifier(random_state=42)\n",
        "\n",
        "# 説明変数と目的変数の定義\n",
        "X_yes_coupon = df_RF_YesKoupon[[\"recency\", \"history\", \"newbie\"]]\n",
        "y_yes_coupon = df_RF_YesKoupon[\"visit\"]\n",
        "\n",
        "# クロスバリデーションの実行\n",
        "kf = KFold(n_splits=5, shuffle=True, random_state=42)\n",
        "scores_yes_coupon = cross_val_score(model, X_yes_coupon, y_yes_coupon, cv=kf, scoring='roc_auc') # 評価指標にはAUCを使用\n",
        "\n",
        "print(f'Cross-Validation AUC (各フォールドに対して): {scores_yes_coupon}')\n",
        "print(f'Cross-Validation AUC (平均): {scores_yes_coupon.mean()}')"
      ],
      "metadata": {
        "colab": {
          "base_uri": "https://localhost:8080/"
        },
        "id": "cu6Ho89Uomid",
        "outputId": "94a1de60-0074-4ff6-9e5c-cab03c5322c0"
      },
      "execution_count": 10,
      "outputs": [
        {
          "output_type": "stream",
          "name": "stdout",
          "text": [
            "Cross-Validation AUC (各フォールドに対して): [0.92122285 0.92361279 0.92581986 0.92480975 0.92297242]\n",
            "Cross-Validation AUC (平均): 0.9236875351962113\n"
          ]
        }
      ]
    },
    {
      "cell_type": "code",
      "source": [
        "# # oof予測値を格納する配列\n",
        "# oof_predictions_yes_coupon = np.zeros(X_yes_coupon.shape[0])\n",
        "\n",
        "# # クロスバリデーションの実行\n",
        "# for train_index, val_index in kf.split(X_yes_coupon):\n",
        "#   X_train_yes_cv, X_val_yes = X_yes_coupon.iloc[train_index], X_yes_coupon.iloc[val_index]\n",
        "#   y_train_yes, y_test_yes = y_yes_coupon.iloc[train_index], y_yes_coupon.iloc[val_index]\n",
        "\n",
        "#   # 学習モデルを作成\n",
        "#   model = RandomForestClassifier(random_state=42)\n",
        "\n",
        "#   # モデル学習\n",
        "#   model.fit(X_train_yes_cv, y_train_yes)\n",
        "\n",
        "#   # oof予測値の保存\n",
        "#   oof_predictions_yes_coupon[val_index] = model.predict_proba(X_val_yes)[:, 1]\n",
        "\n",
        "# # OOFスコア（AUCを使用）を計算\n",
        "# oof_score_yes_coupon = roc_auc_score(y_yes_coupon, oof_predictions_yes_coupon)\n",
        "# print(f'OOF AUC Score: {oof_score_yes_coupon}')"
      ],
      "metadata": {
        "colab": {
          "base_uri": "https://localhost:8080/"
        },
        "id": "AcmNh3Rq9xh0",
        "outputId": "f54fd423-9410-4658-a13a-509b1aa3d1c1"
      },
      "execution_count": null,
      "outputs": [
        {
          "output_type": "stream",
          "name": "stdout",
          "text": [
            "OOF AUC Score: 0.9236210709406577\n"
          ]
        }
      ]
    },
    {
      "cell_type": "markdown",
      "source": [
        "**評価 (クーポンあり)**"
      ],
      "metadata": {
        "id": "asCGe7rxCMzv"
      }
    },
    {
      "cell_type": "code",
      "source": [
        "# 交差検証なしの実装の時と同じ方法でデータを分割\n",
        "X_train_yes, X_test_yes, t_train_yes, t_test_yes = train_test_split(\n",
        "    df_RF_YesKoupon[[\"recency\", \"history\", \"newbie\"]],\n",
        "    df_RF_YesKoupon[\"visit\"],\n",
        "    test_size=0.3,\n",
        "    random_state=0\n",
        ")"
      ],
      "metadata": {
        "id": "pUfQknjICPQo"
      },
      "execution_count": 11,
      "outputs": []
    },
    {
      "cell_type": "markdown",
      "source": [
        "**クーポンありのテストデータのAUC**"
      ],
      "metadata": {
        "id": "xGhoNZ8kHIIs"
      }
    },
    {
      "cell_type": "code",
      "source": [
        "# 訓練データ全体でモデルを再訓練\n",
        "model.fit(X_train_yes, t_train_yes)\n",
        "\n",
        "# テストデータでの予測\n",
        "test_predictions_yes_coupon = model.predict_proba(X_test_yes)[:, 1]\n",
        "\n",
        "# テストデータでのAUC評価\n",
        "test_auc_yes_coupon = roc_auc_score(t_test_yes, test_predictions_yes_coupon)\n",
        "print(f'AUC (CVあり): {test_auc_yes_coupon}')\n",
        "\n",
        "# テストデータでのその他の評価指標の計算\n",
        "test_preds_binary = model.predict(X_test_yes)\n",
        "score_cv = accuracy_score(t_test_yes, test_preds_binary)\n",
        "precision_cv = precision_score(t_test_yes, test_preds_binary)\n",
        "recall_cv = recall_score(t_test_yes, test_preds_binary)\n",
        "f1_cv = f1_score(t_test_yes, test_preds_binary)\n",
        "print(f\"正解率 (CVあり): {score_cv * 100:.2f}%\")\n",
        "print(f\"適合率 (CVあり): {precision_cv * 100:.2f}%\")\n",
        "print(f\"再現率 (CVあり): {recall_cv * 100:.2f}%\")\n",
        "print(f\"F1 (CVあり): {f1_cv * 100:.2f}%\")\n",
        "\n",
        "# ROC曲線の描画\n",
        "fpr, tpr, thresholds = roc_curve(t_test_yes, test_predictions_yes_coupon)\n",
        "plt.plot(fpr, tpr, label='ROC curve (area = %.2f)' % test_auc_yes_coupon)\n",
        "plt.plot([0, 1], [0, 1], linestyle='--')\n",
        "plt.xlim([0.0, 1.0])\n",
        "plt.ylim([0.0, 1.0])\n",
        "plt.xlabel('False Positive Rate')\n",
        "plt.ylabel('True Positive Rate')\n",
        "plt.title('Receiver Operating Characteristic')\n",
        "plt.legend(loc=\"lower right\")\n",
        "plt.show()"
      ],
      "metadata": {
        "colab": {
          "base_uri": "https://localhost:8080/",
          "height": 559
        },
        "id": "UJPeWTWECe0Z",
        "outputId": "fd700983-f1fe-47e1-a42d-a758e1de32a4"
      },
      "execution_count": 12,
      "outputs": [
        {
          "output_type": "stream",
          "name": "stdout",
          "text": [
            "AUC (CVあり): 0.9232549033139061\n",
            "正解率 (CVあり): 83.78%\n",
            "適合率 (CVあり): 87.86%\n",
            "再現率 (CVあり): 85.99%\n",
            "F1 (CVあり): 86.91%\n"
          ]
        },
        {
          "output_type": "display_data",
          "data": {
            "text/plain": [
              "<Figure size 640x480 with 1 Axes>"
            ],
            "image/png": "[encoded data removed]"
          },
          "metadata": {}
        }
      ]
    },
    {
      "cell_type": "markdown",
      "source": [
        "\n",
        "\n",
        "*   正解率：(TP+TN)/(TP+FP+TN+FN)\n",
        "*   適合率：(TP)/(TP+FP)\n",
        "\n",
        "\n",
        "*   再現率：(TP)/(TP+FN)\n",
        "*   F1:2*適合率*再現率/(適合率+再現率)\n",
        "\n",
        "\n",
        "\n"
      ],
      "metadata": {
        "id": "GusgbgEtJr9-"
      }
    },
    {
      "cell_type": "code",
      "source": [
        "# 混同行列\n",
        "cm = confusion_matrix(t_test_yes, test_preds_binary)\n",
        "cmp = ConfusionMatrixDisplay(cm, display_labels=model.classes_)\n",
        "cmp.plot(cmap=plt.cm.Blues)"
      ],
      "metadata": {
        "colab": {
          "base_uri": "https://localhost:8080/",
          "height": 465
        },
        "id": "bbGmzrnHCn5w",
        "outputId": "f2c8e840-b5fb-477d-f9ad-8460391e47d0"
      },
      "execution_count": 13,
      "outputs": [
        {
          "output_type": "execute_result",
          "data": {
            "text/plain": [
              "<sklearn.metrics._plot.confusion_matrix.ConfusionMatrixDisplay at 0x79d37ab04cd0>"
            ]
          },
          "metadata": {},
          "execution_count": 13
        },
        {
          "output_type": "display_data",
          "data": {
            "text/plain": [
              "<Figure size 640x480 with 2 Axes>"
            ],
            "image/png": "[encoded data removed]"
          },
          "metadata": {}
        }
      ]
    },
    {
      "cell_type": "markdown",
      "source": [
        "\n",
        "---\n",
        "クーポンなしモデルについて、交差検証ありの実装\n",
        "\n",
        "**交差検証の実装(クーポンなし)**\n",
        "\n"
      ],
      "metadata": {
        "id": "9D3dNtee5f7l"
      }
    },
    {
      "cell_type": "code",
      "source": [
        "# 学習モデルを作成\n",
        "model = RandomForestClassifier(random_state=42)\n",
        "\n",
        "# 説明変数と目的変数の定義\n",
        "X = df_RF_NoKoupon[[\"recency\", \"history\", \"newbie\"]]\n",
        "y = df_RF_NoKoupon[\"visit\"]\n",
        "\n",
        "# クロスバリデーションの実行\n",
        "kf = KFold(n_splits=5, shuffle=True, random_state=42)\n",
        "scores = cross_val_score(model, X, y, cv=kf, scoring='roc_auc') # 評価指標にはAUCを使用\n",
        "\n",
        "print(f'Cross validation scores: {scores.mean()}')"
      ],
      "metadata": {
        "colab": {
          "base_uri": "https://localhost:8080/"
        },
        "id": "Oe16HKfdekv0",
        "outputId": "467b456b-d8d5-4fe6-9261-3b5afd8602f5"
      },
      "execution_count": 14,
      "outputs": [
        {
          "output_type": "stream",
          "name": "stdout",
          "text": [
            "Cross validation scores: 0.6433457078408645\n"
          ]
        }
      ]
    },
    {
      "cell_type": "markdown",
      "source": [
        "**クーポンなしのoofデータのAUC**\n",
        "\n"
      ],
      "metadata": {
        "id": "-q_q-kaQo805"
      }
    },
    {
      "cell_type": "code",
      "source": [
        "\n",
        "Z = []\n",
        "kf = KFold(n_splits=5, shuffle=True, random_state=42)\n",
        "for train_index, val_index in kf.split(X):\n",
        "  # oof予測値を格納する配列\n",
        "  oof_predictions = np.zeros(X.shape[0])\n",
        "  X_train, X_val = X.iloc[train_index], X.iloc[val_index]\n",
        "  y_train, y_test = y.iloc[train_index], y.iloc[val_index]\n",
        "\n",
        "  # 学習モデルを作成\n",
        "  model = RandomForestClassifier(random_state=42)\n",
        "\n",
        "  # モデル学習\n",
        "  model.fit(X_train, y_train)\n",
        "\n",
        "  # oof予測値の保存\n",
        "  oof_predictions = model.predict_proba(X_val)[:, 1]\n",
        "  oof_predictions = pd.DataFrame(oof_predictions)\n",
        "\n",
        "\n",
        "  # OOFスコア（AUCを使用）を計算\n",
        "  oof_score = roc_auc_score(y_test, oof_predictions)\n",
        "  print(f'OOF AUC Score: {oof_score}')\n",
        "\n",
        "  # OOF予測値を保存\n",
        "  Z.append(oof_score)\n"
      ],
      "metadata": {
        "id": "7twovEpfowF_",
        "colab": {
          "base_uri": "https://localhost:8080/"
        },
        "outputId": "0b408a5f-1f73-4b69-e3e5-966f1d3d91d4"
      },
      "execution_count": 15,
      "outputs": [
        {
          "output_type": "stream",
          "name": "stdout",
          "text": [
            "OOF AUC Score: 0.642559856723534\n",
            "OOF AUC Score: 0.6382034370928705\n",
            "OOF AUC Score: 0.6573899787743648\n",
            "OOF AUC Score: 0.6434249367245574\n",
            "OOF AUC Score: 0.6351503298889958\n"
          ]
        }
      ]
    },
    {
      "cell_type": "code",
      "source": [
        "pd.DataFrame(Z).mean()"
      ],
      "metadata": {
        "colab": {
          "base_uri": "https://localhost:8080/"
        },
        "id": "FWDuITwT7Wat",
        "outputId": "0f2fbfcf-dee1-4506-bbfe-ee014acbba46"
      },
      "execution_count": 16,
      "outputs": [
        {
          "output_type": "execute_result",
          "data": {
            "text/plain": [
              "0    0.643346\n",
              "dtype: float64"
            ]
          },
          "metadata": {},
          "execution_count": 16
        }
      ]
    },
    {
      "cell_type": "code",
      "source": [
        "X.shape[0]"
      ],
      "metadata": {
        "colab": {
          "base_uri": "https://localhost:8080/"
        },
        "id": "yE2LA1Yxni87",
        "outputId": "b75b4af8-d8c5-4256-b7aa-590fd7704602"
      },
      "execution_count": 17,
      "outputs": [
        {
          "output_type": "execute_result",
          "data": {
            "text/plain": [
              "21306"
            ]
          },
          "metadata": {},
          "execution_count": 17
        }
      ]
    },
    {
      "cell_type": "markdown",
      "source": [
        "**評価**"
      ],
      "metadata": {
        "id": "72teEqZuo34v"
      }
    },
    {
      "cell_type": "markdown",
      "source": [
        "**クーポンなしのテストデータのAUC**"
      ],
      "metadata": {
        "id": "XtQp9nxe3E6p"
      }
    },
    {
      "cell_type": "code",
      "source": [
        "# 交差検証なしの実装の時と同じ方法でデータを分割\n",
        "X_train, X_test, t_train, t_test = train_test_split(\n",
        "    df_RF_NoKoupon[[\"recency\", \"history\", \"newbie\"]],\n",
        "    df_RF_NoKoupon[\"visit\"],\n",
        "    test_size=0.3,\n",
        "    random_state=0\n",
        ")\n",
        "\n",
        "# 訓練データ全体でモデルを再訓練\n",
        "model.fit(X_train, t_train)\n",
        "\n",
        "# テストデータでの予測\n",
        "test_predictions = model.predict_proba(X_test)[:, 1]\n",
        "\n",
        "# テストデータでのAUC評価\n",
        "test_auc = roc_auc_score(t_test, test_predictions)\n",
        "print(f'AUC (CVあり): {test_auc}')\n",
        "\n",
        "# テストデータでのその他の評価指標の計算\n",
        "test_preds_binary = model.predict(X_test)\n",
        "score_cv = accuracy_score(t_test, test_preds_binary)\n",
        "precision_cv = precision_score(t_test, test_preds_binary)\n",
        "recall_cv = recall_score(t_test, test_preds_binary)\n",
        "f1_cv = f1_score(t_test, test_preds_binary)\n",
        "print(f\"正解率 (CVあり): {score_cv * 100:.2f}%\")\n",
        "print(f\"適合率 (CVあり): {precision_cv * 100:.2f}%\")\n",
        "print(f\"再現率 (CVあり): {recall_cv * 100:.2f}%\")\n",
        "print(f\"F1 (CVあり): {f1_cv * 100:.2f}%\")\n",
        "\n",
        "# ROC曲線の描画\n",
        "fpr, tpr, thresholds = roc_curve(t_test, test_predictions)\n",
        "plt.plot(fpr, tpr, label='ROC curve (area = %.2f)' % test_auc)\n",
        "plt.plot([0, 1], [0, 1], linestyle='--')\n",
        "plt.xlim([0.0, 1.0])\n",
        "plt.ylim([0.0, 1.0])\n",
        "plt.xlabel('False Positive Rate')\n",
        "plt.ylabel('True Positive Rate')\n",
        "plt.title('Receiver Operating Characteristic')\n",
        "plt.legend(loc=\"lower right\")\n",
        "plt.show()"
      ],
      "metadata": {
        "colab": {
          "base_uri": "https://localhost:8080/",
          "height": 559
        },
        "id": "MVXrlFu40gdq",
        "outputId": "53cd3536-4860-47ed-d466-d30357ceecd8"
      },
      "execution_count": 18,
      "outputs": [
        {
          "output_type": "stream",
          "name": "stdout",
          "text": [
            "AUC (CVあり): 0.6398533085145779\n",
            "正解率 (CVあり): 63.89%\n",
            "適合率 (CVあり): 44.19%\n",
            "再現率 (CVあり): 40.04%\n",
            "F1 (CVあり): 42.01%\n"
          ]
        },
        {
          "output_type": "display_data",
          "data": {
            "text/plain": [
              "<Figure size 640x480 with 1 Axes>"
            ],
            "image/png": "[encoded data removed]"
          },
          "metadata": {}
        }
      ]
    },
    {
      "cell_type": "markdown",
      "source": [
        "**AUUCの算出**"
      ],
      "metadata": {
        "id": "NU7YcboP66ak"
      }
    },
    {
      "cell_type": "code",
      "source": [
        "# クーポンありのデータでモデルをトレーニング\n",
        "model_yes = RandomForestClassifier(random_state=42)\n",
        "model_yes.fit(X_train_yes, t_train_yes)\n",
        "\n",
        "# クーポンなしのデータでモデルをトレーニング\n",
        "model_no = RandomForestClassifier(random_state=42)\n",
        "model_no.fit(X_train, t_train)\n",
        "\n",
        "## X_test_yesとX_testを結合、t_test_yesとt_testを結合\n",
        "X_test_combined = pd.concat([X_test_yes, X_test]).reset_index(drop=True)\n",
        "t_test_combined = pd.concat([t_test_yes, t_test]).reset_index(drop=True)\n",
        "\n",
        "# クーポンありモデルの予測 (クーポンありモデルが予測した、クーポンありの状況でのvisit確率)\n",
        "test_predictions_yes = model_yes.predict_proba(X_test_combined)[:, 1]\n",
        "\n",
        "# クーポンなしモデルの予測  (クーポンなしモデルが予測した、クーポンなしの状況でのvisit確率)\n",
        "test_predictions_no = model_no.predict_proba(X_test_combined)[:, 1]\n",
        "\n",
        "# Uplift Scoreの計算  (各データポイントに対して、クーポンありの場合となしの場合でそれぞれ予測されたvisit確率の差分)\n",
        "uplift_scores = test_predictions_yes - test_predictions_no"
      ],
      "metadata": {
        "id": "EwSDHe0-_9Bp"
      },
      "execution_count": 19,
      "outputs": []
    },
    {
      "cell_type": "markdown",
      "source": [
        "必要なデータの準備"
      ],
      "metadata": {
        "id": "JEuWvyf47SSz"
      }
    },
    {
      "cell_type": "code",
      "source": [
        "# クーポンあり・なしのフラグを作成\n",
        "visit_flg = t_test_combined\n",
        "treat_flg = pd.concat([pd.Series(np.ones(len(t_test_yes))), pd.Series(np.zeros(len(t_test)))]).reset_index(drop=True)\n",
        "\n",
        "# 検証データの準備\n",
        "test_data = pd.DataFrame({\n",
        "    'cv_flg': visit_flg, # 実際のvisit結果\n",
        "    'treat_flg': treat_flg, # クーポンの有無を示すフラグ\n",
        "    'uplift_score': uplift_scores\n",
        "})\n",
        "\n",
        "# uplift score が大きい順に検証データを並び替え\n",
        "result = test_data.sort_values(by='uplift_score', ascending=False).reset_index(drop=True)"
      ],
      "metadata": {
        "id": "VdVxddFxGsne"
      },
      "execution_count": 20,
      "outputs": []
    },
    {
      "cell_type": "markdown",
      "source": [
        "AUUCの計算およびuplift curveの描画"
      ],
      "metadata": {
        "id": "ajGhC-r0Guya"
      }
    },
    {
      "cell_type": "code",
      "source": [
        "# lift の算出\n",
        "# 介入群と対照群それぞれの累積数\n",
        "result['treat_num_cumsum'] = result['treat_flg'].cumsum()\n",
        "result['control_num_cumsum'] = (1 - result['treat_flg']).cumsum()\n",
        "\n",
        "# クーポンを受け取った上で実際にvisitした累積ユーザー数\n",
        "result['treat_cv_cumsum'] = (result['treat_flg'] * result['cv_flg']).cumsum()\n",
        "# クーポンを受け取らなかった、かつvisitした累積ユーザー数\n",
        "result['control_cv_cumsum'] = ((1 - result['treat_flg']) * result['cv_flg']).cumsum()\n",
        "\n",
        "# 介入群と対照群それぞれの累積コンバージョン率\n",
        "result['treat_cvr'] = (result['treat_cv_cumsum'] / result['treat_num_cumsum']).fillna(0)\n",
        "result['control_cvr'] = (result['control_cv_cumsum'] / result['control_num_cumsum']).fillna(0)\n",
        "\n",
        "result['lift'] = (result['treat_cvr'] - result['control_cvr']) * result['treat_num_cumsum']\n",
        "result['base_line'] = result.index * result['lift'][len(result.index) - 1] / len(result.index)\n",
        "\n",
        "# AUUC の算出\n",
        "auuc = (result['lift'] - result['base_line']).sum() / len(result['lift'])\n",
        "print('AUUC = {:.2f}'.format(auuc))"
      ],
      "metadata": {
        "colab": {
          "base_uri": "https://localhost:8080/"
        },
        "id": "FLWZ6NkTNNs4",
        "outputId": "81904929-692a-4b32-b1d0-ef2c58881bcb"
      },
      "execution_count": 21,
      "outputs": [
        {
          "output_type": "stream",
          "name": "stdout",
          "text": [
            "AUUC = 635.39\n"
          ]
        }
      ]
    },
    {
      "cell_type": "code",
      "source": [
        "# uplift curveの描画\n",
        "result.plot(y=['lift', 'base_line'])\n",
        "plt.xlabel('Uplift Score Rank')\n",
        "plt.ylabel('Conversion Lift')\n",
        "plt.title('Uplift Curve')\n",
        "plt.grid(True)\n",
        "plt.show()"
      ],
      "metadata": {
        "colab": {
          "base_uri": "https://localhost:8080/",
          "height": 469
        },
        "id": "DxlGKKhPPLIr",
        "outputId": "0d3fa78d-592e-4f11-a1b4-c5e653c7fa2a"
      },
      "execution_count": 22,
      "outputs": [
        {
          "output_type": "display_data",
          "data": {
            "text/plain": [
              "<Figure size 640x480 with 1 Axes>"
            ],
            "image/png": "[encoded data removed]"
          },
          "metadata": {}
        }
      ]
    },
    {
      "cell_type": "markdown",
      "source": [
        "AUUCの解釈について\n",
        "\n",
        "---\n",
        "Uplift Scoreの上位何人かを閾値として, 閾値以上の顧客に介入した時のCVRと介入しなかったときのCVRとの差がlift値\\\n",
        "また,Base Lineはliftを算出した時に使用した人数を用い、今度はその人数分ランダムに介入した時のCVRと全く介入しなかったときのCVRとの差である。\\\n",
        "つまりlift値とBase Lineの差が大きいほどランダムに介入するよりもUpliftScore上位の顧客に介入したほうが効果が表れたということである。\n",
        "\n"
      ],
      "metadata": {
        "id": "LA8wsvhgOvu3"
      }
    },
    {
      "cell_type": "code",
      "source": [
        "# uplift score × conversion lift のグラフの描画\n",
        "result.plot(x='uplift_score', y=['lift','base_line'])\n",
        "plt.xlabel('uplift score')\n",
        "plt.ylabel('conversion lift')\n",
        "plt.title('Uplift ScoreとConversion Lift')\n",
        "plt.grid(True)\n",
        "plt.show()"
      ],
      "metadata": {
        "colab": {
          "base_uri": "https://localhost:8080/",
          "height": 469
        },
        "id": "5kCAdQsoXX9O",
        "outputId": "62885709-e956-4ca6-c455-6433e63c6648"
      },
      "execution_count": 23,
      "outputs": [
        {
          "output_type": "display_data",
          "data": {
            "text/plain": [
              "<Figure size 640x480 with 1 Axes>"
            ],
            "image/png": "[encoded data removed]"
          },
          "metadata": {}
        }
      ]
    },
    {
      "cell_type": "markdown",
      "source": [
        "conversion率のパーセンタイルの分布の可視化"
      ],
      "metadata": {
        "id": "ivTt8KTbPlKa"
      }
    },
    {
      "cell_type": "code",
      "source": [
        "# パーセンタイルごとのデータ分割と集計\n",
        "\n",
        "qdf = pd.DataFrame(columns=('treat_cvr', 'control_cvr'))\n",
        "\n",
        "for n in range(10):\n",
        "    # 各パーセンタイルの開始インデックスと終了インデックス\n",
        "    start = int(n * len(result) / 10)\n",
        "    end = int((n + 1) * len(result) / 10) - 1\n",
        "    quantiled_result = result.iloc[start:end]\n",
        "\n",
        "    # 介入群と対照群のユーザー数をカウント\n",
        "    treat_uu = quantiled_result['treat_flg'].sum()\n",
        "    control_uu = len(quantiled_result) - treat_uu\n",
        "\n",
        "    # 介入群と対照群のコンバージョン数 (visit数) をカウント\n",
        "    treat_cv = quantiled_result[(quantiled_result['treat_flg'] == 1) & (quantiled_result['cv_flg'] == 1)].shape[0]\n",
        "    control_cv = quantiled_result[(quantiled_result['treat_flg'] == 0) & (quantiled_result['cv_flg'] == 1)].shape[0]\n",
        "\n",
        "    # 介入群と対照群のコンバージョン率 (visit率) を計算\n",
        "    treat_cvr = treat_cv / treat_uu if treat_uu > 0 else 0\n",
        "    control_cvr = control_cv / control_uu if control_uu > 0 else 0\n",
        "    label = '{}%~{}%'.format(n * 10, (n + 1) * 10)\n",
        "    qdf.loc[label] = [treat_cvr, control_cvr]\n",
        "\n",
        "# バーグラフのプロット\n",
        "qdf.plot.bar()\n",
        "plt.xlabel('Percentile')\n",
        "plt.ylabel('Conversion Rate')\n",
        "plt.title('Conversion Rate Percentile Distribution')\n",
        "plt.legend(frameon=False, loc=0, ncol=1, prop={'size': 10})\n",
        "plt.grid(True)\n",
        "plt.show()"
      ],
      "metadata": {
        "colab": {
          "base_uri": "https://localhost:8080/",
          "height": 530
        },
        "id": "5DnwZaWQbNWz",
        "outputId": "957f8065-5bb6-42f3-831c-ba573ae0e366"
      },
      "execution_count": 24,
      "outputs": [
        {
          "output_type": "display_data",
          "data": {
            "text/plain": [
              "<Figure size 640x480 with 1 Axes>"
            ],
            "image/png": "[encoded data removed]"
          },
          "metadata": {}
        }
      ]
    },
    {
      "cell_type": "markdown",
      "source": [
        "大体上位60%のupliftscoreの顧客が説得可能層であることがわかる"
      ],
      "metadata": {
        "id": "fWQ6Jh6-OPdg"
      }
    }
  ]
}