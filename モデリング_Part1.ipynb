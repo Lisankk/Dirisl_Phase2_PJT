{
  "nbformat": 4,
  "nbformat_minor": 0,
  "metadata": {
    "colab": {
      "provenance": [],
      "authorship_tag": "ABX9TyOlQRFAc7+fW9UgobuAm9n7",
      "include_colab_link": true
    },
    "kernelspec": {
      "name": "python3",
      "display_name": "Python 3"
    },
    "language_info": {
      "name": "python"
    }
  },
  "cells": [
    {
      "cell_type": "markdown",
      "metadata": {
        "id": "view-in-github",
        "colab_type": "text"
      },
      "source": [
        "<a href=\"https://colab.research.google.com/github/Lisankk/Dirisl_Phase2_PJT/blob/main/%E3%83%A2%E3%83%87%E3%83%AA%E3%83%B3%E3%82%B0_Part1.ipynb\" target=\"_parent\"><img src=\"https://colab.research.google.com/assets/colab-badge.svg\" alt=\"Open In Colab\"/></a>"
      ]
    },
    {
      "cell_type": "code",
      "execution_count": 2,
      "metadata": {
        "id": "qZ0VjiYgZ1ut"
      },
      "outputs": [],
      "source": [
        "#ここにクーポンありのコードを書く"
      ]
    },
    {
      "cell_type": "code",
      "source": [],
      "metadata": {
        "id": "ak9qJD_FaJkq"
      },
      "execution_count": null,
      "outputs": []
    }
  ]
}